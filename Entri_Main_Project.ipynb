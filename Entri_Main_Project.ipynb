{
 "cells": [
  {
   "cell_type": "raw",
   "id": "379f89dc-4d6e-4f62-874a-97ca3ad50b6c",
   "metadata": {},
   "source": [
    "Importing libraries"
   ]
  },
  {
   "cell_type": "code",
   "execution_count": 3,
   "id": "9fd630c8-1917-4210-b84b-71744ace5390",
   "metadata": {},
   "outputs": [],
   "source": [
    "import pandas as pd\n",
    "import numpy as np\n",
    "\n",
    "from sklearn.model_selection import train_test_split\n",
    "from sklearn.preprocessing import LabelEncoder, StandardScaler\n",
    "from sklearn.impute import SimpleImputer\n",
    "\n",
    "from sklearn.linear_model import LogisticRegression\n",
    "from sklearn.ensemble import RandomForestClassifier\n",
    "from sklearn.metrics import classification_report\n",
    "\n",
    "from sklearn.cluster import KMeans, DBSCAN\n",
    "from sklearn.decomposition import PCA\n"
   ]
  },
  {
   "cell_type": "raw",
   "id": "e14f9539-6a10-4991-b8f2-a84109e67b2e",
   "metadata": {},
   "source": [
    "Load Dataset"
   ]
  },
  {
   "cell_type": "code",
   "execution_count": 5,
   "id": "ddf7b3ce-be46-4643-ad24-71cb9dcab978",
   "metadata": {},
   "outputs": [
    {
     "data": {
      "text/html": [
       "<div>\n",
       "<style scoped>\n",
       "    .dataframe tbody tr th:only-of-type {\n",
       "        vertical-align: middle;\n",
       "    }\n",
       "\n",
       "    .dataframe tbody tr th {\n",
       "        vertical-align: top;\n",
       "    }\n",
       "\n",
       "    .dataframe thead th {\n",
       "        text-align: right;\n",
       "    }\n",
       "</style>\n",
       "<table border=\"1\" class=\"dataframe\">\n",
       "  <thead>\n",
       "    <tr style=\"text-align: right;\">\n",
       "      <th></th>\n",
       "      <th>Administrative</th>\n",
       "      <th>Administrative_Duration</th>\n",
       "      <th>Informational</th>\n",
       "      <th>Informational_Duration</th>\n",
       "      <th>ProductRelated</th>\n",
       "      <th>ProductRelated_Duration</th>\n",
       "      <th>BounceRates</th>\n",
       "      <th>ExitRates</th>\n",
       "      <th>PageValues</th>\n",
       "      <th>SpecialDay</th>\n",
       "      <th>Month</th>\n",
       "      <th>OperatingSystems</th>\n",
       "      <th>Browser</th>\n",
       "      <th>Region</th>\n",
       "      <th>TrafficType</th>\n",
       "      <th>VisitorType</th>\n",
       "      <th>Weekend</th>\n",
       "      <th>Revenue</th>\n",
       "    </tr>\n",
       "  </thead>\n",
       "  <tbody>\n",
       "    <tr>\n",
       "      <th>0</th>\n",
       "      <td>0</td>\n",
       "      <td>0.0</td>\n",
       "      <td>0</td>\n",
       "      <td>0.0</td>\n",
       "      <td>1</td>\n",
       "      <td>0.000000</td>\n",
       "      <td>0.20</td>\n",
       "      <td>0.20</td>\n",
       "      <td>0.0</td>\n",
       "      <td>0.0</td>\n",
       "      <td>Feb</td>\n",
       "      <td>1</td>\n",
       "      <td>1</td>\n",
       "      <td>1</td>\n",
       "      <td>1</td>\n",
       "      <td>Returning_Visitor</td>\n",
       "      <td>False</td>\n",
       "      <td>False</td>\n",
       "    </tr>\n",
       "    <tr>\n",
       "      <th>1</th>\n",
       "      <td>0</td>\n",
       "      <td>0.0</td>\n",
       "      <td>0</td>\n",
       "      <td>0.0</td>\n",
       "      <td>2</td>\n",
       "      <td>64.000000</td>\n",
       "      <td>0.00</td>\n",
       "      <td>0.10</td>\n",
       "      <td>0.0</td>\n",
       "      <td>0.0</td>\n",
       "      <td>Feb</td>\n",
       "      <td>2</td>\n",
       "      <td>2</td>\n",
       "      <td>1</td>\n",
       "      <td>2</td>\n",
       "      <td>Returning_Visitor</td>\n",
       "      <td>False</td>\n",
       "      <td>False</td>\n",
       "    </tr>\n",
       "    <tr>\n",
       "      <th>2</th>\n",
       "      <td>0</td>\n",
       "      <td>0.0</td>\n",
       "      <td>0</td>\n",
       "      <td>0.0</td>\n",
       "      <td>1</td>\n",
       "      <td>0.000000</td>\n",
       "      <td>0.20</td>\n",
       "      <td>0.20</td>\n",
       "      <td>0.0</td>\n",
       "      <td>0.0</td>\n",
       "      <td>Feb</td>\n",
       "      <td>4</td>\n",
       "      <td>1</td>\n",
       "      <td>9</td>\n",
       "      <td>3</td>\n",
       "      <td>Returning_Visitor</td>\n",
       "      <td>False</td>\n",
       "      <td>False</td>\n",
       "    </tr>\n",
       "    <tr>\n",
       "      <th>3</th>\n",
       "      <td>0</td>\n",
       "      <td>0.0</td>\n",
       "      <td>0</td>\n",
       "      <td>0.0</td>\n",
       "      <td>2</td>\n",
       "      <td>2.666667</td>\n",
       "      <td>0.05</td>\n",
       "      <td>0.14</td>\n",
       "      <td>0.0</td>\n",
       "      <td>0.0</td>\n",
       "      <td>Feb</td>\n",
       "      <td>3</td>\n",
       "      <td>2</td>\n",
       "      <td>2</td>\n",
       "      <td>4</td>\n",
       "      <td>Returning_Visitor</td>\n",
       "      <td>False</td>\n",
       "      <td>False</td>\n",
       "    </tr>\n",
       "    <tr>\n",
       "      <th>4</th>\n",
       "      <td>0</td>\n",
       "      <td>0.0</td>\n",
       "      <td>0</td>\n",
       "      <td>0.0</td>\n",
       "      <td>10</td>\n",
       "      <td>627.500000</td>\n",
       "      <td>0.02</td>\n",
       "      <td>0.05</td>\n",
       "      <td>0.0</td>\n",
       "      <td>0.0</td>\n",
       "      <td>Feb</td>\n",
       "      <td>3</td>\n",
       "      <td>3</td>\n",
       "      <td>1</td>\n",
       "      <td>4</td>\n",
       "      <td>Returning_Visitor</td>\n",
       "      <td>True</td>\n",
       "      <td>False</td>\n",
       "    </tr>\n",
       "  </tbody>\n",
       "</table>\n",
       "</div>"
      ],
      "text/plain": [
       "   Administrative  Administrative_Duration  Informational  \\\n",
       "0               0                      0.0              0   \n",
       "1               0                      0.0              0   \n",
       "2               0                      0.0              0   \n",
       "3               0                      0.0              0   \n",
       "4               0                      0.0              0   \n",
       "\n",
       "   Informational_Duration  ProductRelated  ProductRelated_Duration  \\\n",
       "0                     0.0               1                 0.000000   \n",
       "1                     0.0               2                64.000000   \n",
       "2                     0.0               1                 0.000000   \n",
       "3                     0.0               2                 2.666667   \n",
       "4                     0.0              10               627.500000   \n",
       "\n",
       "   BounceRates  ExitRates  PageValues  SpecialDay Month  OperatingSystems  \\\n",
       "0         0.20       0.20         0.0         0.0   Feb                 1   \n",
       "1         0.00       0.10         0.0         0.0   Feb                 2   \n",
       "2         0.20       0.20         0.0         0.0   Feb                 4   \n",
       "3         0.05       0.14         0.0         0.0   Feb                 3   \n",
       "4         0.02       0.05         0.0         0.0   Feb                 3   \n",
       "\n",
       "   Browser  Region  TrafficType        VisitorType  Weekend  Revenue  \n",
       "0        1       1            1  Returning_Visitor    False    False  \n",
       "1        2       1            2  Returning_Visitor    False    False  \n",
       "2        1       9            3  Returning_Visitor    False    False  \n",
       "3        2       2            4  Returning_Visitor    False    False  \n",
       "4        3       1            4  Returning_Visitor     True    False  "
      ]
     },
     "execution_count": 5,
     "metadata": {},
     "output_type": "execute_result"
    }
   ],
   "source": [
    "df = pd.read_csv(\"online_shoppers_intention.csv\")\n",
    "df.head()"
   ]
  },
  {
   "cell_type": "raw",
   "id": "d42afc93-a91d-4611-88be-3222fefe3da4",
   "metadata": {},
   "source": [
    "Check Initial Missing Values"
   ]
  },
  {
   "cell_type": "code",
   "execution_count": 7,
   "id": "237c528a-2287-408e-9d85-53b14e999378",
   "metadata": {},
   "outputs": [
    {
     "name": "stdout",
     "output_type": "stream",
     "text": [
      "Initial missing values per column:\n",
      "Series([], dtype: int64)\n"
     ]
    }
   ],
   "source": [
    "print(\"Initial missing values per column:\")\n",
    "missing_cols = df.isnull().sum()\n",
    "print(missing_cols[missing_cols > 0])"
   ]
  },
  {
   "cell_type": "raw",
   "id": "a428e06f-b534-456b-bbdc-1d4e54e56840",
   "metadata": {},
   "source": [
    "Handle Missing Values"
   ]
  },
  {
   "cell_type": "code",
   "execution_count": 9,
   "id": "5355bc7c-d4ec-4cbf-8ba7-0627d2615ac7",
   "metadata": {},
   "outputs": [],
   "source": [
    "# Numeric Columns → Fill with Mean\n",
    "numeric_cols = df.select_dtypes(include=[\"int64\", \"float64\"]).columns\n",
    "num_imputer = SimpleImputer(strategy=\"mean\")\n",
    "df[numeric_cols] = pd.DataFrame(\n",
    "    num_imputer.fit_transform(df[numeric_cols]),\n",
    "    columns=numeric_cols\n",
    ")\n",
    "\n",
    "# Object Columns → Fill with Most Frequent\n",
    "object_cols = df.select_dtypes(include=[\"object\"]).columns\n",
    "cat_imputer = SimpleImputer(strategy=\"most_frequent\")\n",
    "df[object_cols] = pd.DataFrame(\n",
    "    cat_imputer.fit_transform(df[object_cols]),\n",
    "    columns=object_cols\n",
    ")"
   ]
  },
  {
   "cell_type": "raw",
   "id": "ba7c7876-c309-4f60-99ac-997a5ab4ab20",
   "metadata": {},
   "source": [
    "Boolean Conversion"
   ]
  },
  {
   "cell_type": "code",
   "execution_count": 11,
   "id": "8db82471-bd95-4725-add7-9919c53261df",
   "metadata": {},
   "outputs": [],
   "source": [
    "df[\"Weekend\"] = df[\"Weekend\"].astype(int)\n",
    "df[\"Revenue\"] = df[\"Revenue\"].astype(int)"
   ]
  },
  {
   "cell_type": "raw",
   "id": "8167c0b8-523a-4466-beba-b7a0600dfa24",
   "metadata": {},
   "source": [
    "Encode VisitorType"
   ]
  },
  {
   "cell_type": "code",
   "execution_count": 13,
   "id": "02eae496-c3b3-45fb-a056-78e613ac5b16",
   "metadata": {},
   "outputs": [
    {
     "name": "stdout",
     "output_type": "stream",
     "text": [
      "VisitorType mapping:\n",
      "New_Visitor: 0\n",
      "Other: 1\n",
      "Returning_Visitor: 2\n"
     ]
    }
   ],
   "source": [
    "le_visitor = LabelEncoder()\n",
    "df[\"VisitorType\"] = le_visitor.fit_transform(df[\"VisitorType\"])\n",
    "print(\"VisitorType mapping:\")\n",
    "for cls, label in zip(le_visitor.classes_, le_visitor.transform(le_visitor.classes_)):\n",
    "    print(f\"{cls}: {label}\")"
   ]
  },
  {
   "cell_type": "raw",
   "id": "a771e5e7-e97d-443e-8672-8493ad76d989",
   "metadata": {},
   "source": [
    "One-Hot Encode 'Month'"
   ]
  },
  {
   "cell_type": "code",
   "execution_count": 15,
   "id": "dbab333f-f34b-4c4d-a788-dec82f2108dc",
   "metadata": {},
   "outputs": [],
   "source": [
    "df = pd.get_dummies(df, columns=[\"Month\"], drop_first=True)"
   ]
  },
  {
   "cell_type": "raw",
   "id": "332e5c14-53aa-457c-97ac-9a55c65cdb97",
   "metadata": {},
   "source": [
    "Feature Engineering – SessionDuration"
   ]
  },
  {
   "cell_type": "code",
   "execution_count": 17,
   "id": "05519c37-70c9-42dc-a484-ac82193943fc",
   "metadata": {},
   "outputs": [],
   "source": [
    "df[\"SessionDuration\"] = (\n",
    "    df[\"Administrative_Duration\"] +\n",
    "    df[\"Informational_Duration\"] +\n",
    "    df[\"ProductRelated_Duration\"]\n",
    ")"
   ]
  },
  {
   "cell_type": "code",
   "execution_count": null,
   "id": "0f1ec983-92df-4c46-bb9c-6b53e97d04f1",
   "metadata": {},
   "outputs": [],
   "source": [
    "Final Missing Value Check"
   ]
  },
  {
   "cell_type": "code",
   "execution_count": 7,
   "id": "cbaaa315-ff4c-46fc-a8b8-a10ece69c6db",
   "metadata": {},
   "outputs": [
    {
     "name": "stdout",
     "output_type": "stream",
     "text": [
      "Final Missing Value Check:\n",
      "Total missing values in DataFrame: 0\n"
     ]
    }
   ],
   "source": [
    "print(\"Final Missing Value Check:\")\n",
    "total_missing = df.isnull().sum().sum()\n",
    "print(f\"Total missing values in DataFrame: {total_missing}\")"
   ]
  },
  {
   "cell_type": "code",
   "execution_count": 33,
   "id": "02829f63-1b05-4309-94ec-b6eb08c63ae9",
   "metadata": {},
   "outputs": [
    {
     "name": "stdout",
     "output_type": "stream",
     "text": [
      "\n",
      "Purchase Prediction Report:\n",
      "              precision    recall  f1-score   support\n",
      "\n",
      "           0       0.98      0.99      0.99      2055\n",
      "           1       0.97      0.89      0.92       411\n",
      "\n",
      "    accuracy                           0.98      2466\n",
      "   macro avg       0.97      0.94      0.95      2466\n",
      "weighted avg       0.98      0.98      0.98      2466\n",
      "\n"
     ]
    }
   ],
   "source": [
    "# Classification 1: Purchase Prediction (Target: Revenue)\n",
    "x1 = df.drop(\"Revenue\", axis=1)\n",
    "y1 = df[\"Revenue\"]\n",
    "x1_train, x1_test, y1_train, y1_test = train_test_split(x1, y1, test_size=0.2, random_state=42)\n",
    "model1 = RandomForestClassifier()\n",
    "model1.fit(x1_train, y1_train)\n",
    "y1_pred = model1.predict(x1_test)\n",
    "print(\"\\nPurchase Prediction Report:\")\n",
    "print(classification_report(y1_test, y1_pred))"
   ]
  },
  {
   "cell_type": "code",
   "execution_count": 35,
   "id": "99cc1548-9d41-43d4-b31a-b85af503af13",
   "metadata": {},
   "outputs": [
    {
     "name": "stdout",
     "output_type": "stream",
     "text": [
      "\n",
      "Visitor Type Prediction Report:\n",
      "              precision    recall  f1-score   support\n",
      "\n",
      "           0       0.99      0.90      0.94       344\n",
      "           1       1.00      0.50      0.67        10\n",
      "           2       0.98      1.00      0.99      2112\n",
      "\n",
      "    accuracy                           0.98      2466\n",
      "   macro avg       0.99      0.80      0.87      2466\n",
      "weighted avg       0.98      0.98      0.98      2466\n",
      "\n"
     ]
    }
   ],
   "source": [
    "# Classification 2: Predicting Visitor Type (Target: VisitorType)\n",
    "x2 = df.drop(\"VisitorType\", axis=1)\n",
    "y2 = df[\"VisitorType\"]\n",
    "x2_train, x2_test, y2_train, y2_test = train_test_split(x2, y2, test_size=0.2, random_state=42)\n",
    "model2 = RandomForestClassifier()\n",
    "model2.fit(x2_train, y2_train)\n",
    "y2_pred = model2.predict(x2_test)\n",
    "print(\"\\nVisitor Type Prediction Report:\")\n",
    "print(classification_report(y2_test, y2_pred))"
   ]
  },
  {
   "cell_type": "code",
   "execution_count": 37,
   "id": "2f112b80-17f4-4756-9239-73f53a839c3e",
   "metadata": {},
   "outputs": [
    {
     "name": "stdout",
     "output_type": "stream",
     "text": [
      "\n",
      "Session Time Bucket Prediction Report:\n",
      "              precision    recall  f1-score   support\n",
      "\n",
      "           0       1.00      1.00      1.00       770\n",
      "           1       1.00      1.00      1.00       768\n",
      "           2       1.00      1.00      1.00       928\n",
      "\n",
      "    accuracy                           1.00      2466\n",
      "   macro avg       1.00      1.00      1.00      2466\n",
      "weighted avg       1.00      1.00      1.00      2466\n",
      "\n"
     ]
    }
   ],
   "source": [
    "# Classification 3: Predict Session Time Bucket\n",
    "def categorize_session(duration):\n",
    "    if duration < 300:\n",
    "        return 0  # Short\n",
    "    elif 300 <= duration < 1000:\n",
    "        return 1  # Medium\n",
    "    else:\n",
    "        return 2  # Long\n",
    "\n",
    "df[\"SessionBucket\"] = df[\"SessionDuration\"].apply(categorize_session)\n",
    "x3 = df.drop([\"SessionBucket\"], axis=1)\n",
    "y3 = df[\"SessionBucket\"]\n",
    "x3_train, x3_test, y3_train, y3_test = train_test_split(x3, y3, test_size=0.2, random_state=42)\n",
    "model3 = RandomForestClassifier()\n",
    "model3.fit(x3_train, y3_train)\n",
    "y3_pred = model3.predict(x3_test)\n",
    "print(\"\\nSession Time Bucket Prediction Report:\")\n",
    "print(classification_report(y3_test, y3_pred))"
   ]
  },
  {
   "cell_type": "raw",
   "id": "68b19e55-ab44-4437-897c-d0f828364cd8",
   "metadata": {},
   "source": [
    "Clustering using DBSCAN"
   ]
  },
  {
   "cell_type": "code",
   "execution_count": 29,
   "id": "f7ec08ad-f82a-4cbb-8366-c5246cbea1e9",
   "metadata": {},
   "outputs": [
    {
     "name": "stdout",
     "output_type": "stream",
     "text": [
      "\n",
      "DBSCAN Cluster Distribution:\n",
      "DBSCAN_Cluster\n",
      " 0     7352\n",
      " 1     1797\n",
      "-1     1494\n",
      " 6      731\n",
      " 7      246\n",
      " 8      234\n",
      " 2      155\n",
      " 3       97\n",
      " 9       78\n",
      " 17      27\n",
      " 4       16\n",
      " 11      15\n",
      " 16      12\n",
      " 10      10\n",
      " 12       8\n",
      " 22       8\n",
      " 14       7\n",
      " 21       7\n",
      " 13       6\n",
      " 23       6\n",
      " 20       6\n",
      " 5        6\n",
      " 18       6\n",
      " 15       4\n",
      " 19       2\n",
      "Name: count, dtype: int64\n"
     ]
    }
   ],
   "source": [
    "# Standardizing data for clustering\n",
    "features_for_clustering = df.select_dtypes(include=[np.number])\n",
    "scaler = StandardScaler()\n",
    "scaled_data = scaler.fit_transform(features_for_clustering)\n",
    "\n",
    "# DBSCAN Clustering\n",
    "dbscan = DBSCAN(eps=2, min_samples=5)  # You can tune eps/min_samples\n",
    "df['DBSCAN_Cluster'] = dbscan.fit_predict(scaled_data)\n",
    "\n",
    "print(\"\\nDBSCAN Cluster Distribution:\")\n",
    "print(df['DBSCAN_Cluster'].value_counts())"
   ]
  },
  {
   "cell_type": "code",
   "execution_count": 39,
   "id": "cbd28c81-0e0d-4653-b32c-cffbe1475823",
   "metadata": {},
   "outputs": [
    {
     "name": "stdout",
     "output_type": "stream",
     "text": [
      "\n",
      "User Segmentation Completed - Cluster Labels added\n"
     ]
    }
   ],
   "source": [
    "# Clustering Task 1: User Segmentation\n",
    "features_seg = df[[\"BounceRates\", \"ExitRates\", \"PageValues\", \"SpecialDay\", \"SessionDuration\"]]\n",
    "scaler = StandardScaler()\n",
    "features_seg_scaled = scaler.fit_transform(features_seg)\n",
    "kmeans1 = KMeans(n_clusters=3, random_state=42)\n",
    "kmeans1_labels = kmeans1.fit_predict(features_seg_scaled)\n",
    "df[\"UserSegment\"] = kmeans1_labels\n",
    "print(\"\\nUser Segmentation Completed - Cluster Labels added\")"
   ]
  },
  {
   "cell_type": "code",
   "execution_count": 41,
   "id": "512bbfd5-e63d-464e-bd25-15b1946751e4",
   "metadata": {},
   "outputs": [
    {
     "name": "stdout",
     "output_type": "stream",
     "text": [
      "Behavioral Clustering Completed - Cluster Labels added\n"
     ]
    }
   ],
   "source": [
    "# Clustering Task 2: Behavioral Clustering\n",
    "features_behav = df[[\"Administrative\", \"Informational\", \"ProductRelated\", \"SessionDuration\"]]\n",
    "features_behav_scaled = scaler.fit_transform(features_behav)\n",
    "kmeans2 = KMeans(n_clusters=3, random_state=42)\n",
    "kmeans2_labels = kmeans2.fit_predict(features_behav_scaled)\n",
    "df[\"BehaviorCluster\"] = kmeans2_labels\n",
    "print(\"Behavioral Clustering Completed - Cluster Labels added\")"
   ]
  },
  {
   "cell_type": "raw",
   "id": "54ef240c-a465-4da0-b0e5-d969db5b3b08",
   "metadata": {},
   "source": [
    "PCA for 2D Cluster Visualization"
   ]
  },
  {
   "cell_type": "code",
   "execution_count": 43,
   "id": "11a76e28-0be4-4d31-a69b-aaf0de9e4efb",
   "metadata": {},
   "outputs": [
    {
     "data": {
      "image/png": "[encoded data removed]",
      "text/plain": [
       "<Figure size 1200x500 with 2 Axes>"
      ]
     },
     "metadata": {},
     "output_type": "display_data"
    }
   ],
   "source": [
    "pca = PCA(n_components=2)\n",
    "reduced = pca.fit_transform(scaled_data)\n",
    "df['PCA1'] = reduced[:, 0]\n",
    "df['PCA2'] = reduced[:, 1]\n",
    "\n",
    "import matplotlib.pyplot as plt\n",
    "import seaborn as sns\n",
    "\n",
    "plt.figure(figsize=(12, 5))\n",
    "\n",
    "# KMeans\n",
    "plt.subplot(1, 2, 1)\n",
    "sns.scatterplot(data=df, x='PCA1', y='PCA2', hue='KMeans_Cluster', palette='Set1')\n",
    "plt.title(\"KMeans Clusters\")\n",
    "\n",
    "# DBSCAN\n",
    "plt.subplot(1, 2, 2)\n",
    "sns.scatterplot(data=df, x='PCA1', y='PCA2', hue='DBSCAN_Cluster', palette='Set2')\n",
    "plt.title(\"DBSCAN Clusters\")\n",
    "\n",
    "plt.tight_layout()\n",
    "plt.show()"
   ]
  }
 ],
 "metadata": {
  "kernelspec": {
   "display_name": "Python [conda env:base] *",
   "language": "python",
   "name": "conda-base-py"
  },
  "language_info": {
   "codemirror_mode": {
    "name": "ipython",
    "version": 3
   },
   "file_extension": ".py",
   "mimetype": "text/x-python",
   "name": "python",
   "nbconvert_exporter": "python",
   "pygments_lexer": "ipython3",
   "version": "3.12.7"
  }
 },
 "nbformat": 4,
 "nbformat_minor": 5
}
